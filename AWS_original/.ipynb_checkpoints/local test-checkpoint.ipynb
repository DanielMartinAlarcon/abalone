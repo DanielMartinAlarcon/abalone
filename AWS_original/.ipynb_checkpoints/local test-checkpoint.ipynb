{
 "cells": [
  {
   "cell_type": "markdown",
   "metadata": {},
   "source": [
    "Calling the API with a snippet of abalone data."
   ]
  },
  {
   "cell_type": "code",
   "execution_count": 33,
   "metadata": {},
   "outputs": [],
   "source": [
    "import boto3\n",
    "\n",
    "abalone_stats = \"\"\"\n",
    "M,0.35,0.265,0.09,0.2255,0.0995,0.0485,0.07\n",
    "M,0.35,0.265,0.09,0.2255,0.0995,0.0485,0.07\n",
    "M,0.44,0.365,0.125,0.516,0.2155,0.114,0.155\n",
    "I,0.33,0.255,0.08,0.205,0.0895,0.0395,0.055\n",
    "\"\"\"\n",
    "endpoint_name = 'inference-pipeline-ep-2019-12-02-21-58-33'\n",
    "runtime = boto3.Session().client(service_name='sagemaker-runtime',region_name='us-east-1')\n",
    "\n",
    "response = runtime.invoke_endpoint(EndpointName=endpoint_name, \n",
    "                                   ContentType='text/csv',\n",
    "                                   Accept='application/json',\n",
    "                                   Body=abalone_stats)\n",
    "byte_response = response['Body'].read()"
   ]
  },
  {
   "cell_type": "code",
   "execution_count": 34,
   "metadata": {},
   "outputs": [
    {
     "data": {
      "text/plain": [
       "{'ResponseMetadata': {'RequestId': 'f475b1d9-9d55-46bf-bd9c-1638a9c561c5',\n",
       "  'HTTPStatusCode': 200,\n",
       "  'HTTPHeaders': {'x-amzn-requestid': 'f475b1d9-9d55-46bf-bd9c-1638a9c561c5',\n",
       "   'x-amzn-invoked-production-variant': 'AllTraffic',\n",
       "   'date': 'Wed, 4 Dec 2019 19:11:32 GMT',\n",
       "   'content-type': 'application/json',\n",
       "   'content-length': '137'},\n",
       "  'RetryAttempts': 0},\n",
       " 'ContentType': 'application/json',\n",
       " 'InvokedProductionVariant': 'AllTraffic',\n",
       " 'Body': <botocore.response.StreamingBody at 0x109dc8290>}"
      ]
     },
     "execution_count": 34,
     "metadata": {},
     "output_type": "execute_result"
    }
   ],
   "source": [
    "response"
   ]
  },
  {
   "cell_type": "code",
   "execution_count": 46,
   "metadata": {},
   "outputs": [
    {
     "data": {
      "text/plain": [
       "'{\"predictions\": [{\"score\": 7.946135520935059}, {\"score\": 7.946135520935059}, {\"score\": 9.528051376342773}, {\"score\": 6.576409816741943}]}'"
      ]
     },
     "execution_count": 46,
     "metadata": {},
     "output_type": "execute_result"
    }
   ],
   "source": [
    "byte_response.decode()"
   ]
  },
  {
   "cell_type": "code",
   "execution_count": 36,
   "metadata": {},
   "outputs": [
    {
     "data": {
      "text/plain": [
       "'{\"predictions\": [{\"score\": 7.946135520935059}, {\"score\": 7.946135520935059}, {\"score\": 9.528051376342773}, {\"score\": 6.576409816741943}]}'"
      ]
     },
     "execution_count": 36,
     "metadata": {},
     "output_type": "execute_result"
    }
   ],
   "source": [
    "str_response = byte_response.decode('utf-8') # Decode using the utf-8 encoding\n",
    "str_response"
   ]
  },
  {
   "cell_type": "code",
   "execution_count": 48,
   "metadata": {},
   "outputs": [
    {
     "data": {
      "text/plain": [
       "{'predictions': [{'score': 7.946135520935059},\n",
       "  {'score': 7.946135520935059},\n",
       "  {'score': 9.528051376342773},\n",
       "  {'score': 6.576409816741943}]}"
      ]
     },
     "execution_count": 48,
     "metadata": {},
     "output_type": "execute_result"
    }
   ],
   "source": [
    "import ast\n",
    "ast.literal_eval(str_response)"
   ]
  },
  {
   "cell_type": "code",
   "execution_count": null,
   "metadata": {},
   "outputs": [],
   "source": []
  }
 ],
 "metadata": {
  "kernelspec": {
   "display_name": "Python 3",
   "language": "python",
   "name": "python3"
  },
  "language_info": {
   "codemirror_mode": {
    "name": "ipython",
    "version": 3
   },
   "file_extension": ".py",
   "mimetype": "text/x-python",
   "name": "python",
   "nbconvert_exporter": "python",
   "pygments_lexer": "ipython3",
   "version": "3.7.5"
  }
 },
 "nbformat": 4,
 "nbformat_minor": 2
}
